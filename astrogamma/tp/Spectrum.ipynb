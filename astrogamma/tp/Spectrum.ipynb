{
 "cells": [
  {
   "cell_type": "code",
   "execution_count": null,
   "metadata": {},
   "outputs": [],
   "source": [
    "print(\"Renseigner le chemin du fichier spectrum.fits\")"
   ]
  },
  {
   "cell_type": "code",
   "execution_count": null,
   "metadata": {},
   "outputs": [],
   "source": [
    "from astropy.io import fits\n",
    "fileData = 'spectrum.fits'\n",
    "\n",
    "import os.path\n",
    "print(fileData)\n",
    "if (os.path.exists(fileData)):\n",
    "    print('Le fichier est présent')\n",
    "else:\n",
    "    print(\"Le fichier est faux\")\n",
    "data= fits.open(fileData)\n"
   ]
  },
  {
   "cell_type": "code",
   "execution_count": null,
   "metadata": {},
   "outputs": [],
   "source": [
    "#! /usr/bin/env python\n",
    "\n",
    "import matplotlib.pyplot as plt\n",
    "\n",
    "\n",
    "\n",
    "emin=[]\n",
    "emax=[]\n",
    "emoy=[]\n",
    "flux=[]\n",
    "errflux=[]\n",
    "intflux_energy = []\n",
    "errintflux_energy = []\n",
    "intflux_photon = []\n",
    "errintflux_photon = []\n",
    "\n",
    "for i in range(0,len(data[1].data)):\n",
    "    emin.append(data[1].data[i][1])\n",
    "    emax.append(data[1].data[i][2])\n",
    "    emoy.append(data[1].data[i][0])\n",
    "    flux.append(data[1].data[i][6]*data[1].data[i][3])\n",
    "    errflux.append(data[1].data[i][6]*data[1].data[i][4])\n",
    "\n",
    "    \n",
    "    dnde = 1e6*flux[i]/1.602/(emoy[i]**2)\n",
    "    intflux_energy.append((emax[i]**2-emin[i]**2)/2*dnde)\n",
    "    errintflux_energy.append(intflux_energy[i]*errflux[i]/flux[i])\n",
    "    intflux_photon.append((emax[i]-emin[i])*dnde)\n",
    "    errintflux_photon.append(intflux_photon[i]*errflux[i]/flux[i])\n",
    "\n",
    "plt.figure(figsize=(14, 7))\n",
    "plt.subplot(1, 2, 1)\n",
    "plt.loglog()\n",
    "plt.grid()\n",
    "plt.errorbar(emoy, flux, yerr=errflux, xerr=[emin, emax], fmt='ro')\n",
    "plt.xlabel('Energy (TeV)')\n",
    "plt.ylabel(r'E$^2$ $\\times$ dN/dE (erg cm$^{-2}$ s$^{-1}$)')\n",
    "plt.subplot(1, 2, 2)\n",
    "plt.loglog()\n",
    "plt.grid()\n",
    "plt.errorbar(emoy, intflux_energy, yerr=errintflux_energy, xerr=[emin, emax], fmt='ro')\n",
    "plt.xlabel('Energy (TeV)')\n",
    "plt.ylabel(r'Flux (erg cm$^{-2}$ s$^{-1}$)')\n",
    "\n",
    "# Show figure\n",
    "plt.show()"
   ]
  },
  {
   "cell_type": "code",
   "execution_count": null,
   "metadata": {},
   "outputs": [],
   "source": [
    "print(\"Energie (TeV)  Flux +/- dFlux (erg/cm*2/s)\")\n",
    "for i in range(len(flux)):\n",
    "    print(emoy[i],intflux_energy[i],errintflux_energy[i])"
   ]
  },
  {
   "cell_type": "code",
   "execution_count": null,
   "metadata": {},
   "outputs": [],
   "source": [
    "print(\"Energie (TeV)  Flux +/- dFlux (photon/cm*2/s)\")\n",
    "for i in range(len(flux)):\n",
    "    print(emoy[i],intflux_photon[i],errintflux_photon[i])"
   ]
  },
  {
   "cell_type": "code",
   "execution_count": null,
   "metadata": {},
   "outputs": [],
   "source": [
    "print(\"Energie (TeV)  SED +/- dSED (erg/cm*2/s)\")\n",
    "for i in range(len(flux)):\n",
    "    print(emoy[i],flux[i],errflux[i])"
   ]
  },
  {
   "cell_type": "code",
   "execution_count": null,
   "metadata": {},
   "outputs": [],
   "source": []
  }
 ],
 "metadata": {
  "kernelspec": {
   "display_name": "Python 3",
   "language": "python",
   "name": "python3"
  },
  "language_info": {
   "codemirror_mode": {
    "name": "ipython",
    "version": 3
   },
   "file_extension": ".py",
   "mimetype": "text/x-python",
   "name": "python",
   "nbconvert_exporter": "python",
   "pygments_lexer": "ipython3",
   "version": "3.7.7"
  }
 },
 "nbformat": 4,
 "nbformat_minor": 4
}
