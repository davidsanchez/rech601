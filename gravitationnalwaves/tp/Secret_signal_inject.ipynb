{
 "cells": [
  {
   "cell_type": "markdown",
   "metadata": {},
   "source": [
    "# LAPPTP RECH601 Ondes gravitationnelles\n",
    "Génération d'un signal intégré dans du bruit"
   ]
  },
  {
   "cell_type": "code",
   "execution_count": 4,
   "metadata": {},
   "outputs": [
    {
     "name": "stdout",
     "output_type": "stream",
     "text": [
      "Importation done\n"
     ]
    }
   ],
   "source": [
    "import sys\n",
    "from math import *\n",
    "import pandas as pd\n",
    "import numpy as np\n",
    "from numpy import fft\n",
    "from scipy import signal\n",
    "import h5py\n",
    "\n",
    "#import LAPPTP_stream_lib\n",
    "import matplotlib.pyplot as plt\n",
    "%matplotlib notebook\n",
    "import GW_generator as GW\n",
    "\n",
    "print('Importation done')"
   ]
  },
  {
   "cell_type": "markdown",
   "metadata": {},
   "source": [
    "### Parameters\n",
    "default scan rate, do not exceed 2000 Hz (approximately)\n",
    "well, you can try, depends on your hardware\n",
    "\n",
    "default number of injection and input signal samples."
   ]
  },
  {
   "cell_type": "code",
   "execution_count": 2,
   "metadata": {},
   "outputs": [],
   "source": [
    "DEFAULT_SCAN_RATE_HZ = 2000\n",
    "\n",
    "DEFAULT_INJECTION_SIGNAL_SAMPLES = 16000"
   ]
  },
  {
   "cell_type": "markdown",
   "metadata": {},
   "source": [
    "### Main"
   ]
  },
  {
   "cell_type": "code",
   "execution_count": null,
   "metadata": {},
   "outputs": [],
   "source": []
  }
 ],
 "metadata": {
  "kernelspec": {
   "display_name": "Python 3",
   "language": "python",
   "name": "python3"
  },
  "language_info": {
   "codemirror_mode": {
    "name": "ipython",
    "version": 3
   },
   "file_extension": ".py",
   "mimetype": "text/x-python",
   "name": "python",
   "nbconvert_exporter": "python",
   "pygments_lexer": "ipython3",
   "version": "3.7.6"
  }
 },
 "nbformat": 4,
 "nbformat_minor": 4
}
