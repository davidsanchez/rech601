{
 "cells": [
  {
   "cell_type": "markdown",
   "metadata": {},
   "source": [
    "# Gravitational waves data Analysis "
   ]
  },
  {
   "cell_type": "markdown",
   "metadata": {},
   "source": [
    "# Travail à faire\n",
    "\n",
    "1. Comprendre le code du notebook\n",
    "\n",
    "2. Le spectre des données contient des pics de résonnance. Nettoyer les données en enlevant ces pics et vérifier que l'on améliore le rapport signal sur bruit.\n",
    "\n",
    "3. Faire une recherche sur une liste de calques (\"templates\") pour trouver le calque le plus adapté. En déduire la masse des trous noirs ayant servi à réaliser la simulation. On se contentera de l'intervalle de masse $m\\in [30;80]\\;M_\\odot$ et on ne prendra que des calques $m_1=m_2$.\n",
    "\n",
    "4. Refaire l'analyse avec les fichiers Save/Data4_off.txt et Save/Inj4_off.txt\n"
   ]
  },
  {
   "cell_type": "code",
   "execution_count": null,
   "metadata": {
    "scrolled": true
   },
   "outputs": [],
   "source": [
    "%matplotlib notebook\n",
    "import numpy as np\n",
    "import sys\n",
    "import pandas as pd\n",
    "import matplotlib.pyplot as plt\n",
    "import GW_generator as GW\n",
    "print('Python version ' + sys.version)\n",
    "print('numpy version ' + np.__version__)\n",
    "#print('matplotlib version ' + matplotlib.__version__)"
   ]
  },
  {
   "cell_type": "markdown",
   "metadata": {},
   "source": [
    "## Read data and plot it"
   ]
  },
  {
   "cell_type": "code",
   "execution_count": null,
   "metadata": {},
   "outputs": [],
   "source": [
    "df_noise = pd.read_csv('Save/Data1_off.txt',delimiter = ' ',header = None,names  = ['data'], dtype  = {'data':np.float})\n",
    "\n",
    "df_data = -2.5 + pd.read_csv('Save/Inj1_off.txt',delimiter = ' ',header = None,names  = ['data'], dtype  = {'data':np.float})\n"
   ]
  },
  {
   "cell_type": "code",
   "execution_count": null,
   "metadata": {},
   "outputs": [],
   "source": [
    "scan_rate_hz = 2000\n",
    "injection_signal_samples = 16000\n",
    "dt = 1./scan_rate_hz\n",
    "data_size = len(df_data)\n",
    "data_times = np.arange(data_size) * dt\n"
   ]
  },
  {
   "cell_type": "code",
   "execution_count": null,
   "metadata": {},
   "outputs": [],
   "source": [
    "print(len(df_data),len(df_noise))\n",
    "plt.figure()\n",
    "plt.plot(data_times,df_data)\n",
    "plt.plot(data_times,df_noise, color = 'red')\n",
    "plt.show()\n"
   ]
  },
  {
   "cell_type": "markdown",
   "metadata": {},
   "source": [
    "# Fourier Transformation"
   ]
  },
  {
   "cell_type": "code",
   "execution_count": null,
   "metadata": {},
   "outputs": [],
   "source": [
    "# Let's calculate the Fourier transforms of noise and signal\n",
    "\n",
    "frequencies = np.fft.rfftfreq(data_size, dt) # list of the spectrum frequencies\n",
    "df = frequencies[1]  # spacing in frequency space\n",
    "print (len(frequencies))\n"
   ]
  },
  {
   "cell_type": "code",
   "execution_count": null,
   "metadata": {},
   "outputs": [],
   "source": [
    "noise_fourier = np.fft.rfft(df_noise['data'], norm='ortho') * np.sqrt(dt)\n",
    "data_fourier = np.fft.rfft(df_data['data'], norm=None, n = data_size) * dt\n",
    "\n",
    "print(len(noise_fourier),len(data_fourier))\n",
    "\n",
    "# Exemple de données\n",
    "print (noise_fourier[6000])\n",
    "print (data_fourier[6000])\n"
   ]
  },
  {
   "cell_type": "code",
   "execution_count": null,
   "metadata": {},
   "outputs": [],
   "source": [
    "# Plot the spectra\n",
    "plt.figure()\n",
    "plt.loglog(frequencies[2:], np.abs(noise_fourier[2:]))\n",
    "plt.loglog(frequencies[2:], np.sqrt(frequencies[2:]) * np.abs(data_fourier[2:]))\n",
    "\n",
    "plt.ylim(1.e-6, 2.)\n",
    "plt.xlabel('frequency [Hz]')\n",
    "plt.ylabel('noise and (signal * sqrt(f)) [1/sqrt(Hz)]')\n",
    "plt.tight_layout()\n"
   ]
  },
  {
   "cell_type": "markdown",
   "metadata": {},
   "source": [
    "# Noise Analysis"
   ]
  },
  {
   "cell_type": "code",
   "execution_count": null,
   "metadata": {},
   "outputs": [],
   "source": [
    "# Noise analysis : Clean the data\n",
    "\n",
    "#    ???\n",
    "\n",
    "#    ???\n",
    "\n",
    "data_fourier_clean = <CLEANED DATA> # To do from data_fourier"
   ]
  },
  {
   "cell_type": "code",
   "execution_count": null,
   "metadata": {},
   "outputs": [],
   "source": [
    "plt.figure()\n",
    "plt.loglog(frequencies[2:], np.abs(noise_fourier[2:]))\n",
    "plt.loglog(frequencies[2:], np.sqrt(frequencies[2:]) * np.abs(data_fourier[2:]))\n",
    "plt.loglog(frequencies[2:], np.sqrt(frequencies[2:]) * np.abs(data_fourier_clean[2:]))\n",
    "plt.ylim(1.e-6, 2.)\n",
    "plt.xlabel('frequency [Hz]')\n",
    "plt.ylabel('noise and (signal * sqrt(f)) [1/sqrt(Hz)]')\n",
    "plt.tight_layout()\n"
   ]
  },
  {
   "cell_type": "code",
   "execution_count": null,
   "metadata": {},
   "outputs": [],
   "source": [
    "# Signal power\n",
    "\n",
    "signal_power = 2 * np.real(np.dot(<CLEANED DATA>, np.conj(<CLEANED DATA>))) * df / frequencies.max()\n",
    "noise_power = np.real(np.dot(noise_fourier, np.conj(noise_fourier))) * df / frequencies.max()\n",
    "print('noise power spectral density = {:.2e} 1/Hz'.format(noise_power))\n",
    "print('cleaned data spectral density = {:.2e} 1/Hz'.format(signal_power_2))\n"
   ]
  },
  {
   "cell_type": "code",
   "execution_count": null,
   "metadata": {},
   "outputs": [],
   "source": [
    "# signal-to-noise ratio\n",
    "\n",
    "optimal_snr = np.sqrt(abs(signal_power_2 / noise_power))\n",
    "print('The optimal SNR of the signal is {:.1f}'.format(optimal_snr))\n"
   ]
  },
  {
   "cell_type": "code",
   "execution_count": null,
   "metadata": {},
   "outputs": [],
   "source": [
    "# Correlate noisy data with signal and signal\n",
    "corr = np.real(np.fft.irfft(noise_fourier * np.conj(<CLEANED DATA>) ) * df) \\\n",
    "            * data_size / optimal_snr\n",
    "corr_times = np.arange(len(corr)) * dt\n",
    "\n",
    "plt.figure()\n",
    "plt.plot(corr_times,np.abs(corr))\n",
    "plt.xlabel('time [s]')\n",
    "plt.ylabel('Correlation product')\n",
    "plt.show()"
   ]
  },
  {
   "cell_type": "markdown",
   "metadata": {},
   "source": [
    "# Find the masses of the binary (m1 = m2)"
   ]
  },
  {
   "cell_type": "code",
   "execution_count": null,
   "metadata": {},
   "outputs": [],
   "source": [
    "# Try to correlate a template with your data\n",
    "\n",
    "GW.generation(30,30,10000.,scan_rate_hz)\n",
    "\n",
    "df_template = pd.read_csv('template.txt',delimiter = ' ',header = None,names  = ['data'], dtype  = {'data':np.float})\n",
    "template = 40.e15*df_template.astype(float)\n",
    "template_times = np.arange(len(template)) * dt\n",
    "\n",
    "\n",
    "template_fourier = np.fft.rfft(template['data'], norm=None, n = data_size) * dt\n",
    "\n",
    "fig, axs = plt.subplots(2, 1)\n",
    "axs[1].plot(template_times,template['data'], label='template in time')\n",
    "axs[1].set_xlabel('time [s]')\n",
    "axs[1].set_ylabel('h')\n",
    "axs[1].legend()\n",
    "axs[0].loglog(frequencies[2:], np.abs(template_fourier[2:]), label='template in freq.')\n",
    "axs[0].set_xlabel('frequency [Hz]')\n",
    "axs[0].set_ylabel('h (1/sqrt(Hz))')\n",
    "\n"
   ]
  },
  {
   "cell_type": "code",
   "execution_count": null,
   "metadata": {},
   "outputs": [],
   "source": [
    "# Correlate a template with your data\n",
    "\n",
    "corr = np.real(np.fft.irfft(noise_fourier * np.conj(template_fourier) ) * df) \\\n",
    "            * data_size / optimal_snr\n",
    "corr_times = np.arange(len(corr)) * dt\n",
    "\n",
    "plt.figure()\n",
    "plt.plot(corr_times,np.abs(corr))\n",
    "plt.xlabel('time [s]')\n",
    "plt.ylabel('Correlation product')\n",
    "plt.show()\n",
    "    "
   ]
  },
  {
   "cell_type": "code",
   "execution_count": null,
   "metadata": {},
   "outputs": [],
   "source": [
    "# Turn on templates to find the optimal corellation product as a function of the masses.\n",
    "\n",
    "\n",
    "%matplotlib notebook\n"
   ]
  },
  {
   "cell_type": "code",
   "execution_count": null,
   "metadata": {},
   "outputs": [],
   "source": []
  }
 ],
 "metadata": {
  "kernelspec": {
   "display_name": "Python 3",
   "language": "python",
   "name": "python3"
  },
  "language_info": {
   "codemirror_mode": {
    "name": "ipython",
    "version": 3
   },
   "file_extension": ".py",
   "mimetype": "text/x-python",
   "name": "python",
   "nbconvert_exporter": "python",
   "pygments_lexer": "ipython3",
   "version": "3.7.6"
  }
 },
 "nbformat": 4,
 "nbformat_minor": 2
}

